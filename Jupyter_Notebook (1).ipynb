{
 "cells": [
  {
   "cell_type": "markdown",
   "metadata": {},
   "source": [
    "<center>\n",
    "    <img src=\"https://s3-api.us-geo.objectstorage.softlayer.net/cf-courses-data/CognitiveClass/Logos/organization_logo/organization_logo.png\" width=\"300\" alt=\"cognitiveclass.ai logo\"  />\n",
    "</center>\n"
   ]
  },
  {
   "cell_type": "markdown",
   "metadata": {},
   "source": [
    "#### Add your code below following the instructions given in the course\n"
   ]
  },
  {
   "cell_type": "markdown",
   "metadata": {},
   "source": [
    "# My Jupyter Notebook on IBM Watson Studio\n"
   ]
  },
  {
   "cell_type": "markdown",
   "metadata": {},
   "source": [
    "**Sokratis Mantzakos** <br>student"
   ]
  },
  {
   "cell_type": "markdown",
   "metadata": {},
   "source": [
    " *I am interested in data science because I like statistics and maths*"
   ]
  },
  {
   "cell_type": "markdown",
   "metadata": {},
   "source": [
    "### The next code is gonna show some personal information"
   ]
  },
  {
   "cell_type": "code",
   "execution_count": 22,
   "metadata": {},
   "outputs": [
    {
     "name": "stdout",
     "output_type": "stream",
     "text": [
      "Nationality : Greek \n",
      "Birth date : 21/08/1996\n",
      "Birth Location : Athens\n"
     ]
    }
   ],
   "source": [
    "print (\"Nationality : Greek \\nBirth date : 21/08/1996\\nBirth Location : Athens\")"
   ]
  },
  {
   "cell_type": "markdown",
   "metadata": {},
   "source": [
    "3 of my favorite songs are\n",
    "1. Θα απουσιαζω<br>\n",
    "[Πάνος Κιάμος - Θα Με Ζητάς (Θα Απουσιάζω) - Official Lyric Video](https://www.youtube.com/watch?v=H33RqDO_dgU)<br>\n",
    "<img src=\"https://i.ytimg.com/vi/H33RqDO_dgU/maxresdefault.jpg\" width=500 />\n",
    "2. Ζήσε <br>\n",
    "[Nikos Vertis - Zise / Νίκος Βέρτης - Ζήσε (Official Videoclip 4K)](https://www.youtube.com/watch?v=VNCiCWMiUQA)<br>\n",
    "<img src = \"https://i.ytimg.com/vi/VNCiCWMiUQA/hqdefault.jpg\" width =500 />\n",
    "3. Tώρα τώρα (Βoro boro)<br>\n",
    "[Giorgos Mazonakis, Arash - Tora Tora (Boro Boro) | Official Music Video](https://www.youtube.com/watch?v=SIrijoy0iZM)<br>\n",
    "<img src=\"https://i.ytimg.com/vi/SIrijoy0iZM/maxresdefault.jpg\" width=500 />"
   ]
  },
  {
   "cell_type": "code",
   "execution_count": null,
   "metadata": {},
   "outputs": [],
   "source": []
  }
 ],
 "metadata": {
  "kernelspec": {
   "display_name": "Python",
   "language": "python",
   "name": "conda-env-python-py"
  },
  "language_info": {
   "codemirror_mode": {
    "name": "ipython",
    "version": 3
   },
   "file_extension": ".py",
   "mimetype": "text/x-python",
   "name": "python",
   "nbconvert_exporter": "python",
   "pygments_lexer": "ipython3",
   "version": "3.7.12"
  }
 },
 "nbformat": 4,
 "nbformat_minor": 4
}
